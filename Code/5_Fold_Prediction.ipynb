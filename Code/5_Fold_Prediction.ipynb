{
 "cells": [
  {
   "cell_type": "code",
   "execution_count": 1,
   "metadata": {},
   "outputs": [
    {
     "name": "stdout",
     "output_type": "stream",
     "text": [
      "7605\n",
      "10.2\n"
     ]
    }
   ],
   "source": [
    "import logging\n",
    "import os\n",
    "\n",
    "import joblib\n",
    "import matplotlib.pyplot as plt\n",
    "import numpy as np\n",
    "import pandas as pd\n",
    "import plotly.express as px\n",
    "import plotly.graph_objects as go\n",
    "import seaborn as sns\n",
    "import torch\n",
    "import torch.nn as nn\n",
    "from catboost import CatBoostRegressor\n",
    "from rdkit import Chem, DataStructs\n",
    "from rdkit.Chem.Fingerprints import FingerprintMols\n",
    "from sklearn.metrics import mean_absolute_error as mae\n",
    "from sklearn.model_selection import KFold, train_test_split\n",
    "from sklearn.svm import LinearSVR\n",
    "from torch.utils.data import DataLoader, Dataset\n",
    "from torchinfo import summary\n",
    "from tqdm.contrib import tmap\n",
    "from tqdm.contrib.concurrent import process_map, thread_map\n",
    "from tqdm.notebook import tqdm\n",
    "\n",
    "from preprocessing_pipeline import get_train_data\n",
    "from models import *\n",
    "from datasets import *\n",
    "from utils import *\n",
    "\n",
    "# np.set_printoptions(threshold=sys.maxsize)\n",
    "%matplotlib inline\n",
    "\n",
    "torch.backends.cudnn.benchmark = True\n",
    "print(torch.backends.cudnn.version())\n",
    "print(torch.version.cuda)\n",
    "device=torch.device(\"cuda\")\n"
   ]
  },
  {
   "attachments": {},
   "cell_type": "markdown",
   "metadata": {},
   "source": [
    "## Preparing dataset for training"
   ]
  },
  {
   "attachments": {},
   "cell_type": "markdown",
   "metadata": {},
   "source": [
    "Preprocessing NIST RI database, calculating descriptors, fingerprints"
   ]
  },
  {
   "cell_type": "code",
   "execution_count": null,
   "metadata": {},
   "outputs": [],
   "source": [
    "get_train_data(\"../Data/nist.ri\")"
   ]
  },
  {
   "attachments": {},
   "cell_type": "markdown",
   "metadata": {},
   "source": [
    "Loading processed NIST dataset"
   ]
  },
  {
   "cell_type": "code",
   "execution_count": 2,
   "metadata": {},
   "outputs": [],
   "source": [
    "df_nist = pd.read_csv(\"../Data/valid_nist.csv\")\n",
    "df_nist.columns = [\"Formula\", \"RI\", \"ColType\"]"
   ]
  },
  {
   "cell_type": "code",
   "execution_count": null,
   "metadata": {},
   "outputs": [],
   "source": [
    "df_nist.head()"
   ]
  },
  {
   "attachments": {},
   "cell_type": "markdown",
   "metadata": {},
   "source": [
    "Preparing database for CatBoost and SVR"
   ]
  },
  {
   "cell_type": "code",
   "execution_count": null,
   "metadata": {},
   "outputs": [],
   "source": [
    "nist_unique = pd.unique(df_nist[\"Formula\"])\n",
    "formulas = np.load(\"../Data/unique_nist.npy\", allow_pickle=True)\n",
    "print(\"Saved arrays have the same order as generated formulas:\",\n",
    "      np.all(formulas == nist_unique))\n",
    "md_nist = np.load(\"../Data/md_nist.npy\")\n",
    "descriptors = (md_nist - md_nist.min(axis=0)) / (\n",
    "    (md_nist.max(axis=0) - md_nist.min(axis=0)) + 1e-8)\n",
    "fingerprints = np.load(\"../Data/fp_nist.npy\")\n",
    "maccs = np.load(\"../Data/maccs_nist.npy\")\n",
    "all_nist = np.concatenate([descriptors, maccs], axis=1)\n",
    "dict_nist = dict(zip(formulas, range(len(formulas))))\n",
    "db_nist = np.zeros(shape=(len(df_nist), all_nist.shape[-1] + 37))\n",
    "\n",
    "\n",
    "def encode_column(col_type):\n",
    "    res = np.zeros((37))\n",
    "    res[col_type] = 1\n",
    "    if col_type > 14:\n",
    "        res[-1] = 1\n",
    "    return res\n",
    "\n",
    "\n",
    "for i, val in tqdm(df_nist.iterrows(), total=len(df_nist)):\n",
    "    db_nist[i] = np.concatenate(\n",
    "        [all_nist[dict_nist[val[\"Formula\"]]],\n",
    "         encode_column(val[\"ColType\"])])\n"
   ]
  },
  {
   "attachments": {},
   "cell_type": "markdown",
   "metadata": {},
   "source": [
    "## 5-fold training"
   ]
  },
  {
   "attachments": {},
   "cell_type": "markdown",
   "metadata": {},
   "source": [
    "### CNN1D and MLP training"
   ]
  },
  {
   "cell_type": "code",
   "execution_count": null,
   "metadata": {},
   "outputs": [],
   "source": [
    "nist_unique = pd.unique(df_nist[\"Formula\"])\n",
    "formulas = np.load(\"../Data/unique_nist.npy\", allow_pickle=True)\n",
    "print(\"Saved arrays have the same order as generated formulas:\",\n",
    "      np.all(formulas == nist_unique))\n",
    "md_nist = np.load(\"../Data/md_nist.npy\")\n",
    "descriptors = (md_nist - md_nist.min(axis=0)) / (\n",
    "    (md_nist.max(axis=0) - md_nist.min(axis=0)) + 1e-8)\n",
    "fingerprints = np.load(\"../Data/fp_nist.npy\")\n",
    "maccs = np.load(\"../Data/maccs_nist.npy\")\n",
    "fold = 0\n",
    "\n",
    "kf = KFold(n_splits=5, shuffle=True, random_state=42)\n",
    "for trn_indx, tst_indx in kf.split(nist_unique):\n",
    "    trn_mask, tst_mask = [], []\n",
    "    tst_unique = nist_unique[tst_indx]\n",
    "    tst_unique = set(tst_unique)\n",
    "    for i, val in enumerate(df_nist[\"Formula\"].values):\n",
    "        if val in tst_unique:\n",
    "            tst_mask.append(i)\n",
    "        else:\n",
    "            trn_mask.append(i)\n",
    "    tst_df = df_nist.iloc[tst_mask]\n",
    "    tst_df.to_csv(f\"TST_{fold}.csv\", index=False)\n",
    "    trn_ds = MLP_Dataset(df_nist, descriptors, fingerprints, formulas, maccs,\n",
    "                         trn_mask)\n",
    "    tst_ds = MLP_Dataset(df_nist, descriptors, fingerprints, formulas, maccs,\n",
    "                         tst_mask)\n",
    "    trn_dl = DataLoader(trn_ds,\n",
    "                        batch_size=512,\n",
    "                        shuffle=True,\n",
    "                        pin_memory=True,\n",
    "                        num_workers=8)\n",
    "    tst_dl = DataLoader(tst_ds, batch_size=512, pin_memory=True, num_workers=8)\n",
    "    mlp = MLP().to(device)\n",
    "    optim = torch.optim.Adam(mlp.parameters(), lr=1e-4)\n",
    "    crit = nn.L1Loss()\n",
    "    res = train(device, mlp, optim, crit, 0, 300, trn_dl, tst_dl,\n",
    "                f\"MLP_{fold}\")\n",
    "    print(f\"MLP_{fold}:\", res)\n",
    "\n",
    "    trn_ds = CNN1D_Dataset(df_nist, trn_mask)\n",
    "    tst_ds = CNN1D_Dataset(df_nist, tst_mask)\n",
    "    trn_dl = DataLoader(trn_ds,\n",
    "                        batch_size=128,\n",
    "                        shuffle=True,\n",
    "                        pin_memory=True,\n",
    "                        num_workers=8)\n",
    "    tst_dl = DataLoader(tst_ds, batch_size=128, pin_memory=True, num_workers=8)\n",
    "    cnn1d = CNN1D().to(device)\n",
    "    optim = torch.optim.Adam(cnn1d.parameters(), lr=1e-4)\n",
    "    crit = nn.L1Loss()\n",
    "    res = train(device, cnn1d, optim, crit, 0, 150, trn_dl, tst_dl,\n",
    "                f\"CNN1D_{fold}\")\n",
    "    print(f\"CNN1D_{fold}:\", res)\n",
    "\n",
    "    fold += 1\n"
   ]
  },
  {
   "attachments": {},
   "cell_type": "markdown",
   "metadata": {},
   "source": [
    "### CNN2D training"
   ]
  },
  {
   "cell_type": "code",
   "execution_count": null,
   "metadata": {},
   "outputs": [],
   "source": [
    "nist_unique = pd.unique(df_nist[\"Formula\"])\n",
    "formulas = np.load(\"../Data/unique_nist.npy\", allow_pickle=True)\n",
    "print(\"Saved arrays have the same order as generated formulas:\",\n",
    "      np.all(formulas == nist_unique))\n",
    "nist_2d = np.load(\"../Data/2d_nist.npy\")\n",
    "fold = 0\n",
    "\n",
    "kf = KFold(n_splits=5, shuffle=True, random_state=42)\n",
    "for trn_indx, tst_indx in kf.split(nist_unique):\n",
    "    # print(len(trn_indx),len(tst_indx))\n",
    "    trn_mask, tst_mask = [], []\n",
    "    tst_unique = nist_unique[tst_indx]\n",
    "    trn_unique = nist_unique[trn_indx]\n",
    "    tst_unique = set(tst_unique)\n",
    "    for i, val in enumerate(tqdm(df_nist[\"Formula\"].values)):\n",
    "        if val in tst_unique:\n",
    "            tst_mask.append(i)\n",
    "        else:\n",
    "            trn_mask.append(i)\n",
    "    tst_df = df_nist.iloc[tst_mask]\n",
    "    # tst_df.to_csv(f\"TST_{fold}.csv\",index=False)\n",
    "    print(\n",
    "        \"Check if 2d coords are the same:\",\n",
    "        np.all(nist_2d[trn_indx][0] == get_2d_coordinates(\n",
    "            Chem.MolFromSmiles(trn_unique[0]))))\n",
    "    trn_ds = CNN2D_Dataset(df_nist, nist_2d[trn_indx], nist_unique[trn_indx],\n",
    "                           trn_mask)\n",
    "    tst_ds = CNN2D_Dataset(df_nist, nist_2d[tst_indx], nist_unique[tst_indx],\n",
    "                           tst_mask)\n",
    "    trn_dl = DataLoader(trn_ds,\n",
    "                        batch_size=64,\n",
    "                        shuffle=True,\n",
    "                        pin_memory=True,\n",
    "                        num_workers=8)\n",
    "    tst_dl = DataLoader(tst_ds, batch_size=64, pin_memory=True, num_workers=4)\n",
    "    cnn2d = CNN2D().to(device)\n",
    "    optim = torch.optim.Adam(cnn2d.parameters(), lr=1e-4)\n",
    "    crit = nn.L1Loss()\n",
    "    res = train(device, cnn2d, optim, crit, 0, 70, trn_dl, tst_dl,\n",
    "                f\"CNN2D_{fold}\")\n",
    "    print(f\"CNN2D_{fold}:\", res)\n",
    "\n",
    "    fold += 1\n"
   ]
  },
  {
   "attachments": {},
   "cell_type": "markdown",
   "metadata": {},
   "source": [
    "### Training CatBoost\n",
    "Splits are exactly the same in NNs and CatBoost"
   ]
  },
  {
   "cell_type": "code",
   "execution_count": null,
   "metadata": {},
   "outputs": [],
   "source": [
    "fold = 0\n",
    "\n",
    "kf = KFold(n_splits=5, shuffle=True, random_state=42)\n",
    "for trn_indx, tst_indx in kf.split(nist_unique):\n",
    "    # print(len(trn_indx),len(tst_indx))\n",
    "    trn_mask, tst_mask = [], []\n",
    "    tst_unique = nist_unique[tst_indx]\n",
    "    tst_unique = set(tst_unique)\n",
    "    for i, val in enumerate(df_nist[\"Formula\"].values):\n",
    "        if val in tst_unique:\n",
    "            tst_mask.append(i)\n",
    "        else:\n",
    "            trn_mask.append(i)\n",
    "    tst_db = db_nist[tst_mask]\n",
    "    trn_db = db_nist[trn_mask]\n",
    "    ri_nist_trn = df_nist[\"RI\"].values[trn_mask] / 1000\n",
    "    ri_nist_tst = df_nist[\"RI\"].values[tst_mask] / 1000\n",
    "\n",
    "    bst = CatBoostRegressor(iterations=2000,\n",
    "                            learning_rate=0.10,\n",
    "                            max_depth=10,\n",
    "                            loss_function=\"RMSE\",\n",
    "                            thread_count=10,\n",
    "                            custom_metric=\"MAE\",\n",
    "                            verbose=True)\n",
    "    bst.fit(X=trn_db,\n",
    "            y=ri_nist_trn,\n",
    "            eval_set=(tst_db, ri_nist_tst),\n",
    "            use_best_model=True,\n",
    "            verbose=False,\n",
    "            plot=True)\n",
    "    bst.save_model(f\"catboost_{fold}.model\")\n",
    "\n",
    "    fold += 1\n"
   ]
  },
  {
   "attachments": {},
   "cell_type": "markdown",
   "metadata": {},
   "source": [
    "### Training SVR"
   ]
  },
  {
   "cell_type": "code",
   "execution_count": null,
   "metadata": {},
   "outputs": [],
   "source": [
    "fold = 0\n",
    "\n",
    "kf = KFold(n_splits=5, shuffle=True, random_state=42)\n",
    "for trn_indx, tst_indx in kf.split(nist_unique):\n",
    "    # print(len(trn_indx),len(tst_indx))\n",
    "    trn_mask, tst_mask = [], []\n",
    "    tst_unique = nist_unique[tst_indx]\n",
    "    tst_unique = set(tst_unique)\n",
    "    for i, val in enumerate(df_nist[\"Formula\"].values):\n",
    "        if val in tst_unique:\n",
    "            tst_mask.append(i)\n",
    "        else:\n",
    "            trn_mask.append(i)\n",
    "    tst_db = db_nist[tst_mask]\n",
    "    trn_db = db_nist[trn_mask]\n",
    "    ri_nist_trn = df_nist[\"RI\"].values[trn_mask] / 1000\n",
    "    ri_nist_tst = df_nist[\"RI\"].values[tst_mask] / 1000\n",
    "\n",
    "    svr = LinearSVR()\n",
    "    svr.fit(trn_db, ri_nist_trn)\n",
    "    preds = svr.predict(tst_db)\n",
    "    print(mae(ri_nist_tst, preds))\n",
    "    # joblib.dump(svr,f\"../Models/SVR_{fold}.model\")\n",
    "    fold += 1\n"
   ]
  },
  {
   "attachments": {},
   "cell_type": "markdown",
   "metadata": {},
   "source": [
    "## Predicting values in the dataset\n",
    "Each NN out of five predicts values for its pre-defined test set, no data leaks here."
   ]
  },
  {
   "attachments": {},
   "cell_type": "markdown",
   "metadata": {},
   "source": [
    "### SVR Prediction"
   ]
  },
  {
   "cell_type": "code",
   "execution_count": null,
   "metadata": {},
   "outputs": [],
   "source": [
    "nist_unique = pd.unique(df_nist[\"Formula\"])\n",
    "formulas = np.load(\"../Data/unique_nist.npy\", allow_pickle=True)\n",
    "print(\"Saved arrays have the same order as generated formulas:\",\n",
    "      np.all(formulas == nist_unique))\n",
    "md_nist = np.load(\"../Data/md_nist.npy\")\n",
    "descriptors = (md_nist - md_nist.min(axis=0)) / (\n",
    "    (md_nist.max(axis=0) - md_nist.min(axis=0)) + 1e-8)\n",
    "fingerprints = np.load(\"../Data/fp_nist.npy\")\n",
    "maccs = np.load(\"../Data/maccs_nist.npy\")\n",
    "fold = 0\n",
    "\n",
    "kf = KFold(n_splits=5, shuffle=True, random_state=42)\n",
    "for trn_indx, tst_indx in tqdm(kf.split(nist_unique)):\n",
    "    # print(len(trn_indx),len(tst_indx))\n",
    "    trn_mask, tst_mask = [], []\n",
    "    tst_unique = nist_unique[tst_indx]\n",
    "    tst_unique = set(tst_unique)\n",
    "    for i, val in enumerate(df_nist[\"Formula\"].values):\n",
    "        if val in tst_unique:\n",
    "            tst_mask.append(i)\n",
    "        else:\n",
    "            trn_mask.append(i)\n",
    "    tst_db = db_nist[tst_mask]\n",
    "    df_pred = df_nist.iloc[tst_mask].copy()\n",
    "\n",
    "    svr = joblib.load(f\"../Models/SVR_{fold}.model\")\n",
    "    preds = svr.predict(tst_db)\n",
    "    df_pred[\"RI\"] = preds * 1000\n",
    "    # df_pred.to_csv(f\"../Data/SVR_pred_{fold}.csv\")\n",
    "    fold += 1\n"
   ]
  },
  {
   "attachments": {},
   "cell_type": "markdown",
   "metadata": {},
   "source": [
    "### CNN1D prediction"
   ]
  },
  {
   "cell_type": "code",
   "execution_count": null,
   "metadata": {},
   "outputs": [],
   "source": [
    "nist_unique = pd.unique(df_nist[\"Formula\"])\n",
    "formulas = np.load(\"../Data/unique_nist.npy\", allow_pickle=True)\n",
    "print(\"Saved arrays have the same order as generated formulas:\",\n",
    "      np.all(formulas == nist_unique))\n",
    "md_nist = np.load(\"../Data/md_nist.npy\")\n",
    "descriptors = (md_nist - md_nist.min(axis=0)) / (\n",
    "    (md_nist.max(axis=0) - md_nist.min(axis=0)) + 1e-8)\n",
    "fingerprints = np.load(\"../Data/fp_nist.npy\")\n",
    "maccs = np.load(\"../Data/maccs_nist.npy\")\n",
    "fold = 0\n",
    "\n",
    "kf = KFold(n_splits=5, shuffle=True, random_state=42)\n",
    "for trn_indx, tst_indx in tqdm(kf.split(nist_unique), total=5):\n",
    "    # print(len(trn_indx),len(tst_indx))\n",
    "    trn_mask, tst_mask = [], []\n",
    "    tst_unique = nist_unique[tst_indx]\n",
    "    tst_unique = set(tst_unique)\n",
    "    for i, val in enumerate(df_nist[\"Formula\"].values):\n",
    "        if val in tst_unique:\n",
    "            tst_mask.append(i)\n",
    "    tst_df = df_nist.iloc[tst_mask].copy()\n",
    "\n",
    "    tst_ds = CNN1D_Dataset(df_nist, tst_mask)\n",
    "    tst_dl = DataLoader(tst_ds, batch_size=128, pin_memory=True, num_workers=8)\n",
    "\n",
    "    res = []\n",
    "    cnn1d = CNN1D().to(device)\n",
    "    cnn1d.load_state_dict(torch.load(f\"CNN1D_{fold}_model.pth\"))\n",
    "    for data in tst_dl:\n",
    "        cnn1d.eval()\n",
    "        with torch.no_grad():\n",
    "            form, col, ris = data\n",
    "            res.append(\n",
    "                cnn1d(form.to(device), col.to(device)).detach().cpu().numpy())\n",
    "    res = np.vstack(res)\n",
    "    tst_df[\"RI\"] = res * 1000\n",
    "    # tst_df.to_csv(f\"CNN1D_pred_{fold}.csv\")\n",
    "\n",
    "    fold += 1\n"
   ]
  },
  {
   "attachments": {},
   "cell_type": "markdown",
   "metadata": {},
   "source": [
    "### MLP prediction"
   ]
  },
  {
   "cell_type": "code",
   "execution_count": null,
   "metadata": {},
   "outputs": [],
   "source": [
    "nist_unique = pd.unique(df_nist[\"Formula\"])\n",
    "formulas = np.load(\"../Data/unique_nist.npy\", allow_pickle=True)\n",
    "print(\"Saved arrays have the same order as generated formulas:\",\n",
    "      np.all(formulas == nist_unique))\n",
    "md_nist = np.load(\"../Data/md_nist.npy\")\n",
    "descriptors = (md_nist - md_nist.min(axis=0)) / (\n",
    "    (md_nist.max(axis=0) - md_nist.min(axis=0)) + 1e-8)\n",
    "fingerprints = np.load(\"../Data/fp_nist.npy\")\n",
    "maccs = np.load(\"../Data/maccs_nist.npy\")\n",
    "fold = 0\n",
    "\n",
    "kf = KFold(n_splits=5, shuffle=True, random_state=42)\n",
    "for trn_indx, tst_indx in tqdm(kf.split(nist_unique), total=5):\n",
    "    # print(len(trn_indx),len(tst_indx))\n",
    "    trn_mask, tst_mask = [], []\n",
    "    tst_unique = nist_unique[tst_indx]\n",
    "    tst_unique = set(tst_unique)\n",
    "    for i, val in enumerate(df_nist[\"Formula\"].values):\n",
    "        if val in tst_unique:\n",
    "            tst_mask.append(i)\n",
    "    tst_df = df_nist.iloc[tst_mask].copy()\n",
    "\n",
    "    tst_ds = MLP_Dataset(df_nist, descriptors, fingerprints, formulas, maccs,\n",
    "                         tst_mask)\n",
    "    tst_dl = DataLoader(tst_ds, batch_size=512, pin_memory=True, num_workers=8)\n",
    "    mlp = MLP().to(device)\n",
    "    mlp.load_state_dict(torch.load(f\"MLP_{fold}_model.pth\"))\n",
    "    res = []\n",
    "    for data in tst_dl:\n",
    "        with torch.no_grad():\n",
    "            md, fp, ms, col, ris = data\n",
    "            res.append(\n",
    "                mlp(md.to(device), fp.to(device), ms.to(device),\n",
    "                    col.to(device)).detach().cpu().numpy())\n",
    "    res = np.vstack(res)\n",
    "    tst_df[\"RI\"] = res * 1000\n",
    "    # tst_df.to_csv(f\"MLP_pred_{fold}.csv\")\n",
    "\n",
    "    fold += 1\n"
   ]
  },
  {
   "attachments": {},
   "cell_type": "markdown",
   "metadata": {},
   "source": [
    "### CNN2D Prediction"
   ]
  },
  {
   "cell_type": "code",
   "execution_count": null,
   "metadata": {},
   "outputs": [],
   "source": [
    "nist_unique = pd.unique(df_nist[\"Formula\"])\n",
    "formulas = np.load(\"../Data/unique_nist.npy\", allow_pickle=True)\n",
    "print(\"Saved arrays have the same order as generated formulas:\",\n",
    "      np.all(formulas == nist_unique))\n",
    "nist_2d = np.load(\"../Data/2d_nist.npy\")\n",
    "fold = 0\n",
    "\n",
    "kf = KFold(n_splits=5, shuffle=True, random_state=42)\n",
    "for trn_indx, tst_indx in tqdm(kf.split(nist_unique), total=5):\n",
    "    # print(len(trn_indx),len(tst_indx))\n",
    "    trn_mask, tst_mask = [], []\n",
    "    tst_unique = nist_unique[tst_indx]\n",
    "    trn_unique = nist_unique[trn_indx]\n",
    "    tst_unique = set(tst_unique)\n",
    "    for i, val in enumerate(df_nist[\"Formula\"].values):\n",
    "        if val in tst_unique:\n",
    "            tst_mask.append(i)\n",
    "        else:\n",
    "            trn_mask.append(i)\n",
    "    tst_df = df_nist.iloc[tst_mask].copy()\n",
    "    tst_ds = CNN2D_Dataset(df_nist, nist_2d[tst_indx], nist_unique[tst_indx],\n",
    "                           tst_mask)\n",
    "    tst_dl = DataLoader(tst_ds, batch_size=64, pin_memory=True, num_workers=4)\n",
    "    res = []\n",
    "    cnn2d = CNN2D().to(device)\n",
    "    cnn2d.load_state_dict(torch.load(f\"../Models/CNN2D_{fold}_model.pth\"))\n",
    "    for data in tst_dl:\n",
    "        cnn2d.eval()\n",
    "        with torch.no_grad():\n",
    "            form, col, ris = data\n",
    "            res.append(\n",
    "                cnn2d(form.to(device), col.to(device)).detach().cpu().numpy())\n",
    "    res = np.vstack(res)\n",
    "    tst_df[\"RI\"] = res * 1000\n",
    "    # tst_df.to_csv(f\"CNN2D_pred_{fold}.csv\")\n",
    "\n",
    "    fold += 1\n"
   ]
  },
  {
   "attachments": {},
   "cell_type": "markdown",
   "metadata": {},
   "source": [
    "### CatBoost prediction"
   ]
  },
  {
   "cell_type": "code",
   "execution_count": null,
   "metadata": {},
   "outputs": [],
   "source": [
    "fold = 0\n",
    "\n",
    "kf = KFold(n_splits=5, shuffle=True, random_state=42)\n",
    "for trn_indx, tst_indx in tqdm(kf.split(nist_unique)):\n",
    "    # print(len(trn_indx),len(tst_indx))\n",
    "    trn_mask, tst_mask = [], []\n",
    "    tst_unique = nist_unique[tst_indx]\n",
    "    tst_unique = set(tst_unique)\n",
    "    for i, val in enumerate(df_nist[\"Formula\"].values):\n",
    "        if val in tst_unique:\n",
    "            tst_mask.append(i)\n",
    "    tst_db = db_nist[tst_mask]\n",
    "    ri_nist_tst = df_nist[\"RI\"].values[tst_mask] / 1000\n",
    "\n",
    "    bst = CatBoostRegressor()\n",
    "    bst.load_model(f\"catboost_{fold}.model\")\n",
    "    df_pred = df_nist.iloc[tst_mask].copy()\n",
    "    res = bst.predict(data=tst_db)\n",
    "    df_pred.loc[:, \"RI\"] = res * 1000\n",
    "    df_pred.to_csv(f\"catboost_pred_{fold}.csv\", index=False)\n",
    "    fold += 1\n"
   ]
  },
  {
   "attachments": {},
   "cell_type": "markdown",
   "metadata": {},
   "source": [
    "### Merging 5-fold datasets into one"
   ]
  },
  {
   "cell_type": "code",
   "execution_count": null,
   "metadata": {},
   "outputs": [],
   "source": [
    "ress = []\n",
    "for n in [\n",
    "        \"TST\", \"CNN1D_pred\", \"MLP_pred\", \"catboost_pred\", \"CNN2D_pred\",\n",
    "        \"SVR_pred\"\n",
    "]:\n",
    "    res = []\n",
    "    for i in range(5):\n",
    "        df = pd.read_csv(f\"../Data/{n}_{i}.csv\")[[\"Formula\", \"ColType\",\n",
    "                                                  \"RI\"]].to_numpy()\n",
    "        res.append(df)\n",
    "    ress.append(np.vstack(res))\n",
    "ress = np.hstack(ress)\n"
   ]
  },
  {
   "cell_type": "code",
   "execution_count": null,
   "metadata": {},
   "outputs": [],
   "source": [
    "df_pred = pd.DataFrame(ress[:, [0, 1, 2, 5, 8, 11, 14, 17]])\n",
    "df_pred.columns = [\n",
    "    \"Formula\", \"ColType\", \"RI_X\", \"RI_1D\", \"RI_MLP\", \"RI_CB\", \"RI_2D\", \"RI_SVR\"\n",
    "]\n",
    "# df_pred.to_csv(\"../Data/preds_nist.csv\",index=False)\n",
    "df_pred.head()"
   ]
  }
 ],
 "metadata": {
  "kernelspec": {
   "display_name": "Python 3 (ipykernel)",
   "language": "python",
   "name": "python3"
  },
  "language_info": {
   "codemirror_mode": {
    "name": "ipython",
    "version": 3
   },
   "file_extension": ".py",
   "mimetype": "text/x-python",
   "name": "python",
   "nbconvert_exporter": "python",
   "pygments_lexer": "ipython3",
   "version": "3.9.13"
  },
  "vscode": {
   "interpreter": {
    "hash": "533a60ba1d58084f1550930de96f4381b7806100a11d53b2ea8ab46bcc432250"
   }
  }
 },
 "nbformat": 4,
 "nbformat_minor": 2
}
