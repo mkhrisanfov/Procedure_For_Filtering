{
 "cells": [
  {
   "cell_type": "code",
   "execution_count": null,
   "metadata": {},
   "outputs": [],
   "source": [
    "import logging\n",
    "import os\n",
    "\n",
    "import joblib\n",
    "import matplotlib.pyplot as plt\n",
    "import numpy as np\n",
    "import pandas as pd\n",
    "import plotly.express as px\n",
    "import plotly.graph_objects as go\n",
    "import seaborn as sns\n",
    "from catboost import CatBoostRegressor\n",
    "from rdkit import Chem, DataStructs\n",
    "from rdkit.Chem import  AllChem\n",
    "from rdkit.Chem.Fingerprints import FingerprintMols\n",
    "from sklearn.metrics import mean_absolute_error as mae\n",
    "from sklearn.metrics import r2_score\n",
    "from sklearn.model_selection import KFold, train_test_split\n",
    "from sklearn.svm import LinearSVR\n",
    "from torch.utils.data import DataLoader, Dataset\n",
    "from torchinfo import summary\n",
    "from tqdm.contrib import tmap\n",
    "from tqdm.contrib.concurrent import process_map, thread_map\n",
    "from tqdm.notebook import tqdm\n",
    "from mordred import Calculator\n",
    "\n",
    "from rdkit.Chem.rdMolDescriptors import CalcMolFormula\n",
    "\n",
    "# np.set_printoptions(threshold=sys.maxsize)\n",
    "%matplotlib inline\n"
   ]
  },
  {
   "cell_type": "code",
   "execution_count": null,
   "metadata": {},
   "outputs": [],
   "source": [
    "nist17_pred = pd.read_csv(\"../Data/preds_nist.csv\")\n"
   ]
  },
  {
   "cell_type": "code",
   "execution_count": null,
   "metadata": {},
   "outputs": [],
   "source": [
    "cols = [\"RI_1D\", \"RI_MLP\", \"RI_CB\", \"RI_2D\", \"RI_SVR\"]\n",
    "nist17_pred[\"p_std\"] = nist17_pred.loc[:, cols].std(axis=1)\n",
    "nist17_pred[\"p_mean\"] = nist17_pred.loc[:, cols].mean(axis=1)\n",
    "nist17_pred[\"p_median\"] = nist17_pred.loc[:, cols].median(axis=1)\n",
    "nist17_pred[\"d_median\"] = (nist17_pred.loc[:, \"RI_X\"] -\n",
    "                       nist17_pred.loc[:, \"p_median\"]).abs()\n",
    "nist17_pred[\"d_median_R\"] = (nist17_pred[\"d_median\"] /\n",
    "                         nist17_pred.loc[:, \"p_median\"]).abs()\n"
   ]
  },
  {
   "cell_type": "code",
   "execution_count": null,
   "metadata": {},
   "outputs": [],
   "source": [
    "for i in [5, 10, 15, 25]:\n",
    "    nist17_pred[f\"S_{i}\"] = np.zeros(len(nist17_pred))\n",
    "    nist17_pred[f\"S_{i}_R\"] = np.zeros(len(nist17_pred))\n",
    "    nist17_pred[f\"S_{i}_B\"] = np.zeros(len(nist17_pred))\n",
    "    for col in cols:\n",
    "        nist17_pred[\"d_\" + col] = (nist17_pred.loc[:, col] -\n",
    "                               nist17_pred.loc[:, \"RI_X\"]).abs()\n",
    "        nist17_pred.loc[\n",
    "            nist17_pred[\"d_\" +\n",
    "                    col] >= nist17_pred[\"d_\" + col].quantile(float(\n",
    "                        (100 - i) / 100)), f\"S_{i}\"] += 1\n",
    "\n",
    "        nist17_pred[\"d_\" + col +\n",
    "                \"_R\"] = nist17_pred.loc[:, \"d_\" +\n",
    "                                    col] / nist17_pred.loc[:, \"p_median\"].abs()\n",
    "        nist17_pred.loc[nist17_pred[\"d_\" + col + \"_R\"] >= nist17_pred[\"d_\" + col + \"_R\"].\n",
    "                    quantile(float((100 - i) / 100)), f\"S_{i}_R\"] += 1\n",
    "        nist17_pred.loc[(nist17_pred[\"d_\" + col + \"_R\"] >= nist17_pred[\"d_\" + col + \"_R\"].\n",
    "                    quantile(float((100 - i) / 100)))&(nist17_pred[\"d_\" +\n",
    "                    col] >= nist17_pred[\"d_\" + col].quantile(float(\n",
    "                        (100 - i) / 100))), f\"S_{i}_B\"] += 1\n"
   ]
  },
  {
   "cell_type": "code",
   "execution_count": null,
   "metadata": {},
   "outputs": [],
   "source": [
    "nist17_pred[[\"d_\" + x for x in [\"RI_1D\", \"RI_MLP\", \"RI_CB\", \"RI_2D\", \"RI_SVR\"]]].corr()"
   ]
  },
  {
   "attachments": {},
   "cell_type": "markdown",
   "metadata": {},
   "source": [
    "## STD Statistics PREDS"
   ]
  },
  {
   "cell_type": "code",
   "execution_count": null,
   "metadata": {},
   "outputs": [],
   "source": [
    "nist17_pred[(nist17_pred[\"S_5\"]==5)&(nist17_pred[\"S_5_R\"]==5)].describe()[\"d_median\"]"
   ]
  },
  {
   "cell_type": "code",
   "execution_count": null,
   "metadata": {},
   "outputs": [],
   "source": [
    "nist17_pred[(nist17_pred[\"S_5_B\"]==5)].describe()[\"d_median\"]"
   ]
  },
  {
   "cell_type": "code",
   "execution_count": null,
   "metadata": {},
   "outputs": [],
   "source": [
    "cols = [\"RI_1D\", \"RI_MLP\", \"RI_CB\", \"RI_2D\", \"RI_SVR\"]\n",
    "fig, axs = plt.subplots(1, 5, figsize=(20, 3))\n",
    "for i, col in enumerate(cols):\n",
    "    cols_out = [x for x in cols if x != col]\n",
    "    nist17_pred[\"p_std\"] = nist17_pred.loc[:, cols_out].std(axis=1)\n",
    "    nist17_pred[f\"S_4\"] = np.zeros(len(nist17_pred))\n",
    "    nist17_pred[f\"S_4_R\"] = np.zeros(len(nist17_pred))\n",
    "    for it in cols_out:\n",
    "        nist17_pred.loc[nist17_pred[\"d_\" + it] >= nist17_pred[\"d_\" + it].\n",
    "                    quantile(float((100 - 5) / 100)), \"S_4\"] += 1\n",
    "        nist17_pred.loc[nist17_pred[\"d_\" + it + \"_R\"] >= nist17_pred[\"d_\" + it + \"_R\"].\n",
    "                    quantile(float((100 - 5) / 100)), \"S_4_R\"] += 1\n",
    "    std_mean = nist17_pred.groupby(\"S_4\", as_index=False)[\"p_std\"].mean()[\"p_std\"]\n",
    "    std_median = nist17_pred.groupby(\"S_4\",\n",
    "                                 as_index=False)[\"p_std\"].median()[\"p_std\"]\n",
    "\n",
    "    axs[i].plot(np.arange(5), std_mean, color=\"b\", label=\"mean\")\n",
    "    axs[i].plot(np.arange(5), std_median, color=\"g\", label=\"median\")\n",
    "    axs[i].text(2, 40, f\"Without {str(col).lstrip('RI_')}\")\n",
    "    axs[i].legend()\n",
    "    axs[i].grid()\n",
    "fig.suptitle('STD of predictions by number of \"bad\" absolute marks')"
   ]
  },
  {
   "cell_type": "code",
   "execution_count": null,
   "metadata": {},
   "outputs": [],
   "source": [
    "cols = [\"RI_1D\", \"RI_MLP\", \"RI_CB\", \"RI_2D\", \"RI_SVR\"]\n",
    "fig, axs = plt.subplots(1, 5, figsize=(20, 3))\n",
    "for i, col in enumerate(cols):\n",
    "    cols_out = [x for x in cols if x != col]\n",
    "    nist17_pred[\"p_std\"] = nist17_pred.loc[:, cols_out].std(axis=1)\n",
    "    nist17_pred[f\"S_4\"] = np.zeros(len(nist17_pred))\n",
    "    nist17_pred[f\"S_4_R\"] = np.zeros(len(nist17_pred))\n",
    "    for it in cols_out:\n",
    "        nist17_pred.loc[nist17_pred[\"d_\" + it] >= nist17_pred[\"d_\" + it].\n",
    "                    quantile(float((100 - 5) / 100)), \"S_4\"] += 1\n",
    "        nist17_pred.loc[nist17_pred[\"d_\" + it + \"_R\"] >= nist17_pred[\"d_\" + it + \"_R\"].\n",
    "                    quantile(float((100 - 5) / 100)), \"S_4_R\"] += 1\n",
    "    std_mean = nist17_pred.groupby(\"S_4_R\", as_index=False)[\"p_std\"].mean()[\"p_std\"]\n",
    "    std_median = nist17_pred.groupby(\"S_4_R\",\n",
    "                                 as_index=False)[\"p_std\"].median()[\"p_std\"]\n",
    "\n",
    "    axs[i].plot(np.arange(5), std_mean, color=\"b\", label=\"mean\")\n",
    "    axs[i].plot(np.arange(5), std_median, color=\"g\", label=\"median\")\n",
    "    axs[i].text(2, 40, f\"Without {str(col).lstrip('RI_')}\")\n",
    "    axs[i].legend()\n",
    "    axs[i].grid()\n",
    "fig.suptitle('STD of predictions by number of \"bad\" relative marks')"
   ]
  },
  {
   "cell_type": "code",
   "execution_count": null,
   "metadata": {},
   "outputs": [],
   "source": [
    "cols = [\"RI_1D\", \"RI_MLP\", \"RI_CB\", \"RI_2D\", \"RI_SVR\"]\n",
    "nist17_pred[\"p_std\"] = nist17_pred.loc[:, cols].std(axis=1)"
   ]
  },
  {
   "attachments": {},
   "cell_type": "markdown",
   "metadata": {},
   "source": [
    "FIG: Number of entries by number of bad marks"
   ]
  },
  {
   "cell_type": "code",
   "execution_count": null,
   "metadata": {},
   "outputs": [],
   "source": [
    "num_s = nist17_pred.groupby(\"S_5_B\",as_index=False)[\"Formula\"].count()[\"Formula\"]\n",
    "fig,ax = plt.subplots(1,1,figsize=(4,3))\n",
    "ax.bar(np.arange(1,6),num_s[1:])\n",
    "ax.set_xlabel('Number of \"bad\" marks')\n",
    "ax.set_ylabel('# of entries')\n",
    "fig.suptitle('# of entries by number of \"bad\" marks')\n",
    "plt.grid(axis=\"y\")"
   ]
  },
  {
   "cell_type": "code",
   "execution_count": null,
   "metadata": {},
   "outputs": [],
   "source": [
    "num_s = nist17_pred.groupby(\"S_5_B\",as_index=False)[\"Formula\"].count()[\"Formula\"]/len(nist17_pred)*100\n",
    "print(num_s)\n",
    "fig,ax = plt.subplots(1,1,figsize=(4,3))\n",
    "ax.bar(np.arange(1,6),num_s[1:])\n",
    "ax.set_xlabel('Number of \"bad\" marks')\n",
    "ax.set_ylabel('% of entries')\n",
    "fig.suptitle('% of entries by number of \"bad\" marks')\n",
    "plt.grid(axis=\"y\")"
   ]
  },
  {
   "attachments": {},
   "cell_type": "markdown",
   "metadata": {},
   "source": [
    "FIG: STD predictions by number of bad marks"
   ]
  },
  {
   "cell_type": "code",
   "execution_count": null,
   "metadata": {},
   "outputs": [],
   "source": [
    "std_mean = nist17_pred.groupby(\"S_5_B\",as_index=False)[\"p_std\"].mean()[\"p_std\"]\n",
    "std_median = nist17_pred.groupby(\"S_5_B\",as_index=False)[\"p_std\"].median()[\"p_std\"]\n",
    "fig,ax = plt.subplots(1,1,figsize=(4,3),dpi=1000)\n",
    "ax.plot(np.arange(6),std_mean, color = \"b\", label=\"mean\")\n",
    "ax.plot(np.arange(6),std_median, color = \"g\", label=\"median\")\n",
    "ax.set_xlabel('Number of \"yellow cards\"', fontdict={\"fontsize\":12})\n",
    "ax.set_ylabel('Standard deviation, i.u.',fontdict={\"fontsize\":12})\n",
    "# fig.suptitle('STD of predictions by number of \"yellow cards\"')\n",
    "plt.legend(fontsize=12)\n",
    "plt.grid()\n",
    "# plt.savefig(\"../Data/OUT/fig_std.jpg\",bbox_inches=\"tight\")\n",
    "# plt.savefig(\"../Data/OUT/fig_std.eps\",bbox_inches=\"tight\")"
   ]
  },
  {
   "cell_type": "code",
   "execution_count": null,
   "metadata": {},
   "outputs": [],
   "source": [
    "nist17_pred.groupby(\"S_5\",as_index=False).describe(percentiles=[0.5,0.75,0.9,0.95])[\"p_std\"]"
   ]
  },
  {
   "attachments": {},
   "cell_type": "markdown",
   "metadata": {},
   "source": [
    "Probabaility density distributions"
   ]
  },
  {
   "cell_type": "code",
   "execution_count": null,
   "metadata": {},
   "outputs": [],
   "source": [
    "fig, ax = plt.subplots(1, 1, figsize=(4, 3))\n",
    "for i in range(6):\n",
    "    ax.hist(nist17_pred[nist17_pred[\"S_5\"] == i][\"p_std\"],\n",
    "            bins=250,\n",
    "            density=True,\n",
    "            histtype=\"step\",\n",
    "            label=f\"{i} marks\")\n",
    "ax.set_ylabel('Probability density')\n",
    "ax.set_xlabel('Standard deviation, i.u.')\n",
    "ax.set_xbound(0,200)\n",
    "fig.suptitle('Probability density for STD in 1 and 5 marks groups')\n",
    "plt.legend()"
   ]
  },
  {
   "cell_type": "code",
   "execution_count": null,
   "metadata": {},
   "outputs": [],
   "source": [
    "fig, ax = plt.subplots(1, 1, figsize=(4, 3))\n",
    "for i in range(6):\n",
    "    ax.hist(nist17_pred[nist17_pred[\"S_5\"] == i][\"p_std_r\"],\n",
    "            bins=250,\n",
    "            density=True,\n",
    "            histtype=\"step\",\n",
    "            label=f\"{i} marks\")\n",
    "ax.set_ylabel('Probability density')\n",
    "ax.set_xlabel('Standard deviation / RI value')\n",
    "ax.set_xbound(0,0.2)\n",
    "fig.suptitle('Probability density for STD in 1 and 5 marks groups')\n",
    "plt.legend()"
   ]
  },
  {
   "attachments": {},
   "cell_type": "markdown",
   "metadata": {},
   "source": [
    "FIG: probability denisities"
   ]
  },
  {
   "cell_type": "code",
   "execution_count": null,
   "metadata": {},
   "outputs": [],
   "source": [
    "fig,ax = plt.subplots(1,1,figsize=(4,3),dpi=1000)\n",
    "plt.hist(nist17_pred[nist17_pred[\"S_5_B\"] == 5][\"p_std\"],\n",
    "         bins=100,\n",
    "         density=True,\n",
    "         color=\"red\",\n",
    "         histtype=\"step\",\n",
    "         label=\"5 marks\")\n",
    "plt.hist(nist17_pred[nist17_pred[\"S_5_B\"] == 1][\"p_std\"],\n",
    "         bins=100,\n",
    "         density=True,\n",
    "         color=\"blue\",\n",
    "         histtype=\"step\",\n",
    "         label=\"1 mark\")\n",
    "plt.hist(nist17_pred[nist17_pred[\"S_5_B\"] == 0][\"p_std\"],\n",
    "         bins=20,\n",
    "         density=True,\n",
    "         color=\"green\",\n",
    "         histtype=\"step\",\n",
    "         label=\"0 marks\")\n",
    "ax.set_ylabel('Probability density',fontsize=12)\n",
    "ax.set_xlabel('Standard deviation, i.u.',fontsize=12)\n",
    "ax.set_xbound(0,400)\n",
    "# fig.suptitle('Probability density for STD in 1 and 5 marks groups')\n",
    "plt.legend(fontsize=12)\n",
    "# fig.savefig(\"../Data/OUT/fig_denst.jpg\",bbox_inches=\"tight\")\n",
    "# fig.savefig(\"../Data/OUT/fig_denst.eps\",bbox_inches=\"tight\")"
   ]
  },
  {
   "cell_type": "code",
   "execution_count": null,
   "metadata": {},
   "outputs": [],
   "source": [
    "fig,ax = plt.subplots(1,1,figsize=(4,3))\n",
    "plt.hist(nist17_pred[nist17_pred[\"S_5\"] == 5][\"p_std_r\"],\n",
    "         bins=200,\n",
    "         density=True,\n",
    "         color=\"b\",\n",
    "         histtype=\"step\",\n",
    "         label=\"5 marks\")\n",
    "plt.hist(nist17_pred[nist17_pred[\"S_5\"] == 1][\"p_std_r\"],\n",
    "         bins=200,\n",
    "         density=True,\n",
    "         color=\"g\",\n",
    "         histtype=\"step\",\n",
    "         label=\"1 mark\")\n",
    "plt.hist(nist17_pred[nist17_pred[\"S_5\"] == 0][\"p_std_r\"],\n",
    "         bins=100,\n",
    "         density=True,\n",
    "         color=\"r\",\n",
    "         histtype=\"step\",\n",
    "         label=\"0 marks\")\n",
    "ax.set_ylabel('Probability density')\n",
    "ax.set_xlabel('Standard deviation / RI value')\n",
    "ax.set_xbound(0,0.2)\n",
    "fig.suptitle('Probability density for STD in 1 and 5 marks groups')\n",
    "plt.legend()"
   ]
  },
  {
   "attachments": {},
   "cell_type": "markdown",
   "metadata": {},
   "source": [
    "## Comparing NIST versions"
   ]
  },
  {
   "cell_type": "code",
   "execution_count": null,
   "metadata": {},
   "outputs": [],
   "source": [
    "from rdkit.Chem.MolStandardize import rdMolStandardize\n",
    "uncharger = rdMolStandardize.Uncharger()\n",
    "\n",
    "def get_non_isomeric(smiles):\n",
    "    mol = Chem.MolFromSmiles(smiles)\n",
    "    if mol:\n",
    "        return Chem.MolToSmiles(mol,isomericSmiles=False)\n",
    "    else:\n",
    "        return None\n",
    "def get_molfs(smiles):\n",
    "    mol = Chem.MolFromSmiles(smiles)\n",
    "    if mol:\n",
    "        return CalcMolFormula(mol)\n",
    "    else:\n",
    "        return None"
   ]
  },
  {
   "cell_type": "code",
   "execution_count": null,
   "metadata": {},
   "outputs": [],
   "source": [
    "def compare_by_smiles(nist_db, pred_db):\n",
    "    nist_err_idx = set()\n",
    "    preds_nf_idx = []\n",
    "    nist_mp_idx = set()\n",
    "    preds_mp_idx = []\n",
    "    preds_mp_phases =[]\n",
    "    for i, val in tqdm(pred_db.iterrows(), total=len(pred_db)):\n",
    "        filtered = nist_db[(nist_db[\"SMILES_NONISO\"] == val[\"SMILES_NONISO\"])\n",
    "                           & (np.abs(nist_db[\"RI\"] - val[\"RI_X\"]) < 0.1)]\n",
    "        if len(filtered) == 1:\n",
    "            nist_err_idx.add(filtered.index.tolist()[0])\n",
    "        elif len(filtered) == 0:\n",
    "            preds_nf_idx.append(i)\n",
    "        elif len(filtered) > 1:\n",
    "            err_filtered = pred_db[(pred_db[\"SMILES_NONISO\"] == val[\"SMILES_NONISO\"])\n",
    "                           & (np.abs(pred_db[\"RI_X\"] - val[\"RI_X\"]) < 0.1)]\n",
    "            if len(err_filtered)==len(filtered):\n",
    "                nist_err_idx.update(filtered.index.tolist())\n",
    "            else:\n",
    "                preds_mp_idx.append(i)\n",
    "                preds_mp_phases.extend([val[\"ColType\"]]*len(filtered))\n",
    "                nist_mp_idx.update(filtered.index.tolist())\n",
    "    return {\n",
    "        \"nist_err_idx\": nist_err_idx,\n",
    "        \"preds_nf_idx\": preds_nf_idx,\n",
    "        \"preds_mp_idx\": preds_mp_idx,\n",
    "        \"preds_mp_phases\":preds_mp_phases,\n",
    "        \"nist_mp_idx\": nist_mp_idx\n",
    "    }\n"
   ]
  },
  {
   "cell_type": "code",
   "execution_count": null,
   "metadata": {},
   "outputs": [],
   "source": [
    "nist17_err = nist17_pred[(nist17_pred[\"S_5\"]==5)&(nist17_pred[\"S_5_R\"]==5)].copy()\n",
    "nist17_err[\"SMILES_NONISO\"] = list(map(get_non_isomeric,nist17_err[\"Formula\"].tolist()))\n",
    "nist17_err[\"EL_FORMULA\"] = list(map(get_molfs,nist17_err[\"Formula\"].tolist()))\n",
    "nist17_err"
   ]
  },
  {
   "attachments": {},
   "cell_type": "markdown",
   "metadata": {},
   "source": [
    "Loading 2020 NIST"
   ]
  },
  {
   "cell_type": "code",
   "execution_count": null,
   "metadata": {},
   "outputs": [],
   "source": [
    "compounds_20 = []\n",
    "with open(\"../Data/nist20_RI.txt\",\"r\") as f:\n",
    "    headers = f.readline().rstrip(\"\\n\").split(\"|\")\n",
    "    print(headers)\n",
    "    for line in tqdm(f):\n",
    "        compounds_20.append(line.rstrip(\"\\n\").split(\"|\"))\n"
   ]
  },
  {
   "cell_type": "code",
   "execution_count": null,
   "metadata": {},
   "outputs": [],
   "source": [
    "nist20 = pd.DataFrame(compounds_20,columns=headers)[[\"CAN_SMILES\",\"CAN_NAME\",\"EL_FORMULA\",\"RI\",\"RI_TYPE\",\"SOURCE\",'COLUMN_TYPE', 'STAT_PH_TYPE', 'ST_PH']]\n",
    "nist20 = nist20[nist20[\"STAT_PH_TYPE\"]!=\"Standard_polar\"].copy()\n",
    "nist20[\"SMILES_NONISO\"] = list(map(get_non_isomeric,tqdm(nist20[\"CAN_SMILES\"].tolist())))\n",
    "nist20[\"RI\"] = nist20[\"RI\"].astype(float)\n",
    "nist20"
   ]
  },
  {
   "attachments": {},
   "cell_type": "markdown",
   "metadata": {},
   "source": [
    "Comparing NIST RI 17 ERR vs NIST RI 20"
   ]
  },
  {
   "cell_type": "code",
   "execution_count": null,
   "metadata": {},
   "outputs": [],
   "source": [
    "def find_changed(nist20_db, nist17_err_db):\n",
    "    nist17_del_idx = set()\n",
    "    nist17_no_ch_idx = set()\n",
    "    nist20_no_ch_idx = set()\n",
    "    nist20_added_idx = set()\n",
    "    nist17_merge_idx = set()\n",
    "    nist20_merge_idx = set()\n",
    "    nist20_ch_idx = set()\n",
    "    nist17_ch_idx = set()\n",
    "    nist20_ch_ri_idx = set()\n",
    "    nist17_ch_ri_idx = set()\n",
    "    nist17_ch = []\n",
    "    nist17_idx = set()\n",
    "    nist20_db = nist20_db.loc[:,[\"SMILES_NONISO\",\"RI\",\"ST_PH\",\"SOURCE\"]]\n",
    "    nist17_err_db = nist17_err_db.loc[:,[\"SMILES_NONISO\",\"RI\",\"ST_PH\",\"SOURCE\"]]\n",
    "    for i, val in tqdm(nist17_err_db.iterrows(), total=len(nist17_err_db)):\n",
    "        nist20_f_smi = nist20_db.loc[(\n",
    "            nist20_db[\"SMILES_NONISO\"] == val[\"SMILES_NONISO\"]),]\n",
    "        \n",
    "        if len(nist20_f_smi) == 0:\n",
    "            nist17_del_idx.add(i)\n",
    "        else:\n",
    "            eqs20 = nist20_f_smi[nist20_f_smi.eq(val,axis=1).all(axis=1)]\n",
    "            eqs17 = nist17_err_db[nist17_err_db.eq(val,axis=1).all(axis=1)]\n",
    "            if len(eqs20)==0:\n",
    "                eqs20_ri = nist20_f_smi[nist20_f_smi.eq(val,axis=1)==[True,False,True,True]]\n",
    "                if len(eqs17)<=len(eqs20_ri):\n",
    "                    nist20_ch_ri_idx.update(eqs20_ri.index.tolist())\n",
    "                    nist17_ch_ri_idx.update(eqs17.index.tolist())\n",
    "                else:\n",
    "                    nist20_ch_idx.update(eqs20_ri.index.tolist())\n",
    "                    nist17_ch_idx.update(eqs17.index.tolist())\n",
    "            elif len(eqs17)==len(eqs20):\n",
    "                nist17_no_ch_idx.update(eqs17.index.tolist())\n",
    "                nist20_no_ch_idx.update(eqs20.index.tolist())\n",
    "            elif len(eqs17)>len(eqs20):\n",
    "                nist17_merge_idx.update(eqs17.index.tolist())\n",
    "                nist20_merge_idx.update(eqs20.index.tolist())\n",
    "            elif len(eqs17)<len(eqs20):\n",
    "                print(\"addition\")                \n",
    "            # nist17_idx.update(eqs17.index.tolist())\n",
    "            # if len(eqs17)>1:\n",
    "            #     # print(\"multiple\")\n",
    "            #     print(eqs17)\n",
    "\n",
    "            # nist20_f_smi_ri = nist20_f_smi[np.abs(nist20_f_smi[\"RI\"] - val[\"RI\"]) < 0.1]\n",
    "            # nist17_f_smi_ri = nist17_f_smi[(np.abs(nist17_f_smi[\"RI\"] - val[\"RI\"]) < 0.1)]\n",
    "            # if set(nist17_f_smi_ri[\"SOURCE\"].tolist())==set(nist20_f_smi_ri[\"SOURCE\"].tolist()):\n",
    "            #     if set(nist17_f_smi_ri[\"ST_PH\"].tolist())==set(nist20_f_smi_ri[\"ST_PH\"].tolist()):\n",
    "            #         if len(nist20_f_smi_ri)==len(nist17_f_smi_ri):\n",
    "            #             nist17_no_ch_idx.update(nist17_f_smi_ri.index.tolist())\n",
    "            #             nist20_no_ch_idx.update(nist20_f_smi_ri.index.tolist())\n",
    "            # else:\n",
    "            #     nist17_ch_idx.update(nist17_f_smi_ri.index.tolist())\n",
    "            #     nist20_ch_idx.update(nist20_f_smi_ri.index.tolist())\n",
    "    return {\n",
    "        \"nist17_del_idx\": nist17_del_idx,\n",
    "        \"nist20_no_ch_idx\": nist20_no_ch_idx,\n",
    "        \"nist17_no_ch_idx\": nist17_no_ch_idx,\n",
    "        \"nist20_ch_idx\": nist20_ch_idx,\n",
    "        \"nist17_ch_idx\": nist17_ch_idx,\n",
    "        \"nist20_ch_ri_idx\": nist20_ch_ri_idx,\n",
    "        \"nist17_ch_ri_idx\": nist17_ch_ri_idx,\n",
    "        # \"nist17_idx\": nist17_idx,\n",
    "        \"nist17_merge_idx\":nist17_merge_idx,\n",
    "        \"nist20_merge_idx\":nist20_merge_idx,\n",
    "        \"nist17_ch\": nist17_ch\n",
    "    }\n"
   ]
  },
  {
   "cell_type": "code",
   "execution_count": null,
   "metadata": {},
   "outputs": [],
   "source": [
    "ch_dict = find_changed(nist20,nist17_err)\n",
    "for key,val in ch_dict.items():\n",
    "    print(key,len(val))"
   ]
  },
  {
   "cell_type": "code",
   "execution_count": null,
   "metadata": {},
   "outputs": [],
   "source": [
    "nist17_pred.loc[ch_dict[\"nist17_pred_merge_idx\"]].groupby([\"CAN_SMILES\",\"RI\",\"ST_PH\",\"SOURCE\"],as_index=False).mean()"
   ]
  },
  {
   "cell_type": "code",
   "execution_count": null,
   "metadata": {},
   "outputs": [],
   "source": [
    "nist20.loc[ch_dict[\"nist20_merge_idx\"]].sort_values(\"CAN_SMILES\")"
   ]
  },
  {
   "cell_type": "code",
   "execution_count": null,
   "metadata": {},
   "outputs": [],
   "source": [
    "nist17_err.loc[ch_dict[\"nist17_no_ch_idx\"]]"
   ]
  },
  {
   "cell_type": "code",
   "execution_count": null,
   "metadata": {},
   "outputs": [],
   "source": [
    "nist17_err_del = nist17_err.loc[ch_dict[\"nist17_del_idx\"]].groupby(\"SOURCE\")\n",
    "nist17_err_del = dict(zip(nist17_err_del.size().sort_values(ascending=False).index.tolist(),nist17_err_del.size().sort_values(ascending=False).tolist()))"
   ]
  },
  {
   "cell_type": "code",
   "execution_count": null,
   "metadata": {},
   "outputs": [],
   "source": [
    "nist17_err_ch = nist17_err.loc[ch_dict[\"nist17_ch_ri_idx\"]].groupby(\"SOURCE\")\n",
    "nist17_err_ch = dict(zip(nist17_err_ch.size().sort_values(ascending=False).index.tolist(),nist17_err_ch.size().sort_values(ascending=False).tolist()))"
   ]
  },
  {
   "attachments": {},
   "cell_type": "markdown",
   "metadata": {},
   "source": [
    "Looking up the largest contributors / submissions"
   ]
  },
  {
   "cell_type": "code",
   "execution_count": null,
   "metadata": {},
   "outputs": [],
   "source": [
    "nist17_cbtrs = nist17.groupby(\"SOURCE\").size().sort_values(ascending=False)\n",
    "nist17_cbtrs = dict(zip(nist17_cbtrs.index.tolist(),nist17_cbtrs.tolist()))"
   ]
  },
  {
   "attachments": {},
   "cell_type": "markdown",
   "metadata": {},
   "source": [
    "50 biggest contributors sorted by their potential error percentage"
   ]
  },
  {
   "cell_type": "code",
   "execution_count": null,
   "metadata": {},
   "outputs": [],
   "source": [
    "nist17_err_gb = nist17_err.groupby(\"SOURCE\")\n",
    "cbtr_df = pd.DataFrame(columns = [\"SOURCE\",\"ERR_CNT\",\"DEL_CNT\",\"CH_CNT\",\"ALL_CNT\"])\n",
    "sources = nist17_err.groupby(\"SOURCE\").size().sort_values(ascending=False).index.tolist()\n",
    "# sources = nist17.groupby(\"SOURCE\").size().sort_values(ascending=False).index.tolist()\n",
    "cbtr_np = np.zeros((len(sources),4))\n",
    "cbtr_np[:,0] = nist17_err_gb.size().sort_values(ascending=False).tolist()\n",
    "for i,val in enumerate(sources):\n",
    "    cbtr_np[i,1] = nist17_err_del.get(val,0)\n",
    "    cbtr_np[i,2] = nist17_err_ch.get(val,0)\n",
    "    cbtr_np[i,3] = nist17_cbtrs.get(val,0)\n",
    "cbtr_df[\"SOURCE\"] = sources\n",
    "cbtr_df[[\"ERR_CNT\",\"DEL_CNT\",\"CH_CNT\",\"ALL_CNT\"]] = cbtr_np\n",
    "cbtr_df[\"ERR_PERC\"] = cbtr_df[\"ERR_CNT\"] / cbtr_df[\"ALL_CNT\"]*100\n",
    "cbtr_df = cbtr_df.sort_values(\"ALL_CNT\", ascending=False)[:50]\n",
    "cbtr_df = cbtr_df.sort_values(\"ERR_PERC\", ascending=True)\n",
    "cbtr_df"
   ]
  },
  {
   "attachments": {},
   "cell_type": "markdown",
   "metadata": {},
   "source": [
    "Looking up Zaikin contributions"
   ]
  },
  {
   "cell_type": "code",
   "execution_count": null,
   "metadata": {},
   "outputs": [],
   "source": [
    "cbtr_df[[True if \"ZAI\" in x else False for x in cbtr_df[\"SOURCE\"]]].sum()"
   ]
  },
  {
   "cell_type": "code",
   "execution_count": null,
   "metadata": {},
   "outputs": [],
   "source": [
    "nist17[nist17[\"SOURCE\"]==\"1999SOK99-104\"]"
   ]
  },
  {
   "cell_type": "code",
   "execution_count": null,
   "metadata": {},
   "outputs": [],
   "source": [
    "fig,ax = plt.subplots(1,1, figsize=(15,5))\n",
    "plt.xticks(rotation=90)\n",
    "# plt.tight_layout()\n",
    "xs = cbtr_df[\"SOURCE\"]\n",
    "ys = cbtr_df[\"ERR_PERC\"]\n",
    "ax.bar(xs,ys, color =\"blue\", label = \"Errors in NIST 2017\")\n",
    "mask = [True if \"ZAI\" in x else False for x in xs]\n",
    "ax.bar(xs[mask],ys[mask], color =\"teal\")\n",
    "ax.hlines(y=1,xmin=0,xmax=len(ys), color=\"red\")\n",
    "ax.margins(x=0.01)\n",
    "ax.set_xlabel(\"Contributors/Submissions\", fontsize=16)\n",
    "ax.set_ylabel(\"Percentage of erroneous entries\", fontsize=16)\n",
    "ax.text(0,1.1,\"1% of errors per submission\")\n",
    "fig.suptitle(\"Percentage of erroneous entries by largest NIST RI submissions\",fontsize=20)"
   ]
  },
  {
   "attachments": {},
   "cell_type": "markdown",
   "metadata": {},
   "source": [
    "FIG: Contributors"
   ]
  },
  {
   "cell_type": "code",
   "execution_count": null,
   "metadata": {},
   "outputs": [],
   "source": [
    "fig,ax = plt.subplots(1,1, figsize=(7.5,4),dpi=1000)\n",
    "plt.xticks(rotation=90)\n",
    "# plt.tight_layout()\n",
    "xs = cbtr_df[\"SOURCE\"][-30:]\n",
    "ys = cbtr_df[\"ERR_PERC\"][-30:]\n",
    "ys_ch = (cbtr_df[\"CH_CNT\"]/cbtr_df[\"ALL_CNT\"]*100)[-30:]\n",
    "ys_ch_del = ((cbtr_df[\"CH_CNT\"]+cbtr_df[\"DEL_CNT\"])/cbtr_df[\"ALL_CNT\"]*100)[-30:]\n",
    "ax.bar(xs,ys, color =\"blue\", label = \"Errors in NIST 2017\")\n",
    "ax.bar(xs,ys_ch_del, color =\"purple\",label = \"Deleted in NIST 2020\")\n",
    "ax.bar(xs,ys_ch, color =\"green\",label = \"Corrected in NIST 2020\")\n",
    "# ax.bar(xs[mask],ys[mask], color =\"green\")\n",
    "# ax.hlines(y=ys[np.invert(mask)].mean(),xmin=0,xmax=len(ys), color=\"red\")\n",
    "ax.margins(x=0.01)\n",
    "[t.set_color('teal') for t in ax.xaxis.get_ticklabels() if \"zai\" in str(t).lower()]\n",
    "[t.set_color('maroon') for t in ax.xaxis.get_ticklabels() if \"tod\" in str(t).lower()]\n",
    "ax.set_xlabel(\"Contributors/Submissions\", fontsize=12)\n",
    "ax.set_ylabel(\"Percentage of erroneous entries\", fontsize=12)\n",
    "# fig.suptitle(\"Percentage of erroneous entries by largest NIST RI submissions\",fontsize=20)\n",
    "plt.legend(fontsize=12)\n",
    "# fig.savefig(\"../Data/OUT/fig_cbtrs.jpg\",bbox_inches=\"tight\")\n",
    "# fig.savefig(\"../Data/OUT/fig_cbtrs.eps\",bbox_inches=\"tight\")"
   ]
  },
  {
   "attachments": {},
   "cell_type": "markdown",
   "metadata": {},
   "source": [
    "NIST RI 20 entries with changed RI"
   ]
  },
  {
   "cell_type": "code",
   "execution_count": null,
   "metadata": {},
   "outputs": [],
   "source": [
    "nist20.loc[ch_dict[\"nist20_ch_ri_idx\"]].groupby([\"SMILES_NONISO\",\"ST_PH\",\"SOURCE\"],as_index=False).size().sort_values(\"size\",ascending=False)"
   ]
  },
  {
   "attachments": {},
   "cell_type": "markdown",
   "metadata": {},
   "source": [
    "NIST RI 17 entries with changed RI"
   ]
  },
  {
   "cell_type": "code",
   "execution_count": null,
   "metadata": {},
   "outputs": [],
   "source": [
    "nist17.loc[ch_dict[\"nist17_ch_ri_idx\"]].groupby([\"SMILES_NONISO\",\"ST_PH\",\"SOURCE\"],as_index=False).size().sort_values(\"size\",ascending=False)"
   ]
  },
  {
   "cell_type": "code",
   "execution_count": null,
   "metadata": {},
   "outputs": [],
   "source": [
    "nist17_smi_changed = nist17.loc[nist17_ch_dict[\"nist_ch_idx\"],:]\n",
    "nist17_smi_changed"
   ]
  }
 ],
 "metadata": {
  "kernelspec": {
   "display_name": "project_ri",
   "language": "python",
   "name": "python3"
  },
  "language_info": {
   "codemirror_mode": {
    "name": "ipython",
    "version": 3
   },
   "file_extension": ".py",
   "mimetype": "text/x-python",
   "name": "python",
   "nbconvert_exporter": "python",
   "pygments_lexer": "ipython3",
   "version": "3.9.13"
  },
  "orig_nbformat": 4,
  "vscode": {
   "interpreter": {
    "hash": "533a60ba1d58084f1550930de96f4381b7806100a11d53b2ea8ab46bcc432250"
   }
  }
 },
 "nbformat": 4,
 "nbformat_minor": 2
}
